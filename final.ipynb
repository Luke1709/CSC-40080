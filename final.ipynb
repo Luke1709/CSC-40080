{
 "cells": [
  {
   "attachments": {},
   "cell_type": "markdown",
   "metadata": {},
   "source": [
    "# Dependencies"
   ]
  },
  {
   "cell_type": "code",
   "execution_count": 2,
   "metadata": {},
   "outputs": [],
   "source": [
    "import pandas as pd\n",
    "import numpy as np\n",
    "import matplotlib.pyplot as plt\n",
    "import seaborn as sns\n",
    "from sklearn.preprocessing import MinMaxScaler\n",
    "\n",
    "# Iterative Imputer & Random Forest\n",
    "from sklearn.experimental import enable_iterative_imputer \n",
    "from sklearn.impute import IterativeImputer\n",
    "from sklearn.ensemble import RandomForestRegressor"
   ]
  },
  {
   "attachments": {},
   "cell_type": "markdown",
   "metadata": {},
   "source": [
    "# Importing Data"
   ]
  },
  {
   "cell_type": "code",
   "execution_count": 2,
   "metadata": {},
   "outputs": [],
   "source": [
    "raw_data = pd.read_csv('city_day.csv')"
   ]
  },
  {
   "cell_type": "code",
   "execution_count": 3,
   "metadata": {},
   "outputs": [
    {
     "data": {
      "text/html": [
       "<div>\n",
       "<style scoped>\n",
       "    .dataframe tbody tr th:only-of-type {\n",
       "        vertical-align: middle;\n",
       "    }\n",
       "\n",
       "    .dataframe tbody tr th {\n",
       "        vertical-align: top;\n",
       "    }\n",
       "\n",
       "    .dataframe thead th {\n",
       "        text-align: right;\n",
       "    }\n",
       "</style>\n",
       "<table border=\"1\" class=\"dataframe\">\n",
       "  <thead>\n",
       "    <tr style=\"text-align: right;\">\n",
       "      <th></th>\n",
       "      <th>City</th>\n",
       "      <th>Date</th>\n",
       "      <th>PM2.5</th>\n",
       "      <th>PM10</th>\n",
       "      <th>NO</th>\n",
       "      <th>NO2</th>\n",
       "      <th>NOx</th>\n",
       "      <th>NH3</th>\n",
       "      <th>CO</th>\n",
       "      <th>SO2</th>\n",
       "      <th>O3</th>\n",
       "      <th>Benzene</th>\n",
       "      <th>Toluene</th>\n",
       "      <th>Xylene</th>\n",
       "      <th>AQI</th>\n",
       "      <th>AQI_Bucket</th>\n",
       "    </tr>\n",
       "  </thead>\n",
       "  <tbody>\n",
       "    <tr>\n",
       "      <th>0</th>\n",
       "      <td>Ahmedabad</td>\n",
       "      <td>2015-01-01</td>\n",
       "      <td>NaN</td>\n",
       "      <td>NaN</td>\n",
       "      <td>0.92</td>\n",
       "      <td>18.22</td>\n",
       "      <td>17.15</td>\n",
       "      <td>NaN</td>\n",
       "      <td>0.92</td>\n",
       "      <td>27.64</td>\n",
       "      <td>133.36</td>\n",
       "      <td>0.00</td>\n",
       "      <td>0.02</td>\n",
       "      <td>0.00</td>\n",
       "      <td>NaN</td>\n",
       "      <td>NaN</td>\n",
       "    </tr>\n",
       "    <tr>\n",
       "      <th>1</th>\n",
       "      <td>Ahmedabad</td>\n",
       "      <td>2015-01-02</td>\n",
       "      <td>NaN</td>\n",
       "      <td>NaN</td>\n",
       "      <td>0.97</td>\n",
       "      <td>15.69</td>\n",
       "      <td>16.46</td>\n",
       "      <td>NaN</td>\n",
       "      <td>0.97</td>\n",
       "      <td>24.55</td>\n",
       "      <td>34.06</td>\n",
       "      <td>3.68</td>\n",
       "      <td>5.50</td>\n",
       "      <td>3.77</td>\n",
       "      <td>NaN</td>\n",
       "      <td>NaN</td>\n",
       "    </tr>\n",
       "    <tr>\n",
       "      <th>2</th>\n",
       "      <td>Ahmedabad</td>\n",
       "      <td>2015-01-03</td>\n",
       "      <td>NaN</td>\n",
       "      <td>NaN</td>\n",
       "      <td>17.40</td>\n",
       "      <td>19.30</td>\n",
       "      <td>29.70</td>\n",
       "      <td>NaN</td>\n",
       "      <td>17.40</td>\n",
       "      <td>29.07</td>\n",
       "      <td>30.70</td>\n",
       "      <td>6.80</td>\n",
       "      <td>16.40</td>\n",
       "      <td>2.25</td>\n",
       "      <td>NaN</td>\n",
       "      <td>NaN</td>\n",
       "    </tr>\n",
       "    <tr>\n",
       "      <th>3</th>\n",
       "      <td>Ahmedabad</td>\n",
       "      <td>2015-01-04</td>\n",
       "      <td>NaN</td>\n",
       "      <td>NaN</td>\n",
       "      <td>1.70</td>\n",
       "      <td>18.48</td>\n",
       "      <td>17.97</td>\n",
       "      <td>NaN</td>\n",
       "      <td>1.70</td>\n",
       "      <td>18.59</td>\n",
       "      <td>36.08</td>\n",
       "      <td>4.43</td>\n",
       "      <td>10.14</td>\n",
       "      <td>1.00</td>\n",
       "      <td>NaN</td>\n",
       "      <td>NaN</td>\n",
       "    </tr>\n",
       "    <tr>\n",
       "      <th>4</th>\n",
       "      <td>Ahmedabad</td>\n",
       "      <td>2015-01-05</td>\n",
       "      <td>NaN</td>\n",
       "      <td>NaN</td>\n",
       "      <td>22.10</td>\n",
       "      <td>21.42</td>\n",
       "      <td>37.76</td>\n",
       "      <td>NaN</td>\n",
       "      <td>22.10</td>\n",
       "      <td>39.33</td>\n",
       "      <td>39.31</td>\n",
       "      <td>7.01</td>\n",
       "      <td>18.89</td>\n",
       "      <td>2.78</td>\n",
       "      <td>NaN</td>\n",
       "      <td>NaN</td>\n",
       "    </tr>\n",
       "  </tbody>\n",
       "</table>\n",
       "</div>"
      ],
      "text/plain": [
       "        City        Date  PM2.5  PM10     NO    NO2    NOx  NH3     CO    SO2  \\\n",
       "0  Ahmedabad  2015-01-01    NaN   NaN   0.92  18.22  17.15  NaN   0.92  27.64   \n",
       "1  Ahmedabad  2015-01-02    NaN   NaN   0.97  15.69  16.46  NaN   0.97  24.55   \n",
       "2  Ahmedabad  2015-01-03    NaN   NaN  17.40  19.30  29.70  NaN  17.40  29.07   \n",
       "3  Ahmedabad  2015-01-04    NaN   NaN   1.70  18.48  17.97  NaN   1.70  18.59   \n",
       "4  Ahmedabad  2015-01-05    NaN   NaN  22.10  21.42  37.76  NaN  22.10  39.33   \n",
       "\n",
       "       O3  Benzene  Toluene  Xylene  AQI AQI_Bucket  \n",
       "0  133.36     0.00     0.02    0.00  NaN        NaN  \n",
       "1   34.06     3.68     5.50    3.77  NaN        NaN  \n",
       "2   30.70     6.80    16.40    2.25  NaN        NaN  \n",
       "3   36.08     4.43    10.14    1.00  NaN        NaN  \n",
       "4   39.31     7.01    18.89    2.78  NaN        NaN  "
      ]
     },
     "execution_count": 3,
     "metadata": {},
     "output_type": "execute_result"
    }
   ],
   "source": [
    "raw_data.head(5)"
   ]
  },
  {
   "attachments": {},
   "cell_type": "markdown",
   "metadata": {},
   "source": [
    "# Data Preprocessing"
   ]
  },
  {
   "attachments": {},
   "cell_type": "markdown",
   "metadata": {},
   "source": [
    "- Drop AQI_Bucket, not needed for this task\n",
    "- Drop any rows missing AQI values from simplicity"
   ]
  },
  {
   "cell_type": "code",
   "execution_count": 4,
   "metadata": {},
   "outputs": [],
   "source": [
    "# Creating dataset from raw data, dropping AQI Bucket\n",
    "data = raw_data.drop(['AQI_Bucket'], axis=1)\n",
    "\n",
    "# Dropping rows with missing AQI values\n",
    "data = data.dropna(subset=['AQI'])\n",
    "\n",
    "# Convert the date to correct format\n",
    "data['Date'] = pd.to_datetime(data['Date'])"
   ]
  },
  {
   "attachments": {},
   "cell_type": "markdown",
   "metadata": {},
   "source": [
    "- Reduce the data to 3 cities to reduce geographical variation: Jaipur, Amritsar, Thiruvananthapuram"
   ]
  },
  {
   "cell_type": "code",
   "execution_count": 5,
   "metadata": {},
   "outputs": [],
   "source": [
    "regions = ['Amritsar', 'Amaravati', 'Jaipur']\n",
    "data = data[data['City'].isin(regions)]\n",
    "\n",
    "# Reset Index\n",
    "data = data.reset_index(drop=True)"
   ]
  },
  {
   "cell_type": "code",
   "execution_count": 6,
   "metadata": {},
   "outputs": [
    {
     "data": {
      "text/html": [
       "<div>\n",
       "<style scoped>\n",
       "    .dataframe tbody tr th:only-of-type {\n",
       "        vertical-align: middle;\n",
       "    }\n",
       "\n",
       "    .dataframe tbody tr th {\n",
       "        vertical-align: top;\n",
       "    }\n",
       "\n",
       "    .dataframe thead th {\n",
       "        text-align: right;\n",
       "    }\n",
       "</style>\n",
       "<table border=\"1\" class=\"dataframe\">\n",
       "  <thead>\n",
       "    <tr style=\"text-align: right;\">\n",
       "      <th></th>\n",
       "      <th>Date</th>\n",
       "      <th>PM2.5</th>\n",
       "      <th>PM10</th>\n",
       "      <th>NO</th>\n",
       "      <th>NO2</th>\n",
       "      <th>NOx</th>\n",
       "      <th>NH3</th>\n",
       "      <th>CO</th>\n",
       "      <th>SO2</th>\n",
       "      <th>O3</th>\n",
       "      <th>Benzene</th>\n",
       "      <th>Toluene</th>\n",
       "      <th>Xylene</th>\n",
       "      <th>AQI</th>\n",
       "    </tr>\n",
       "  </thead>\n",
       "  <tbody>\n",
       "    <tr>\n",
       "      <th>count</th>\n",
       "      <td>3061</td>\n",
       "      <td>2971.000</td>\n",
       "      <td>3031.000</td>\n",
       "      <td>3006.000</td>\n",
       "      <td>3049.000</td>\n",
       "      <td>2727.000</td>\n",
       "      <td>3045.000</td>\n",
       "      <td>2979.000</td>\n",
       "      <td>2921.000</td>\n",
       "      <td>2976.000</td>\n",
       "      <td>2872.000</td>\n",
       "      <td>2855.000</td>\n",
       "      <td>1617.000</td>\n",
       "      <td>3061.000</td>\n",
       "    </tr>\n",
       "    <tr>\n",
       "      <th>mean</th>\n",
       "      <td>2019-01-04 22:02:23.482522112</td>\n",
       "      <td>50.159</td>\n",
       "      <td>107.412</td>\n",
       "      <td>13.281</td>\n",
       "      <td>24.375</td>\n",
       "      <td>30.779</td>\n",
       "      <td>17.991</td>\n",
       "      <td>0.665</td>\n",
       "      <td>11.003</td>\n",
       "      <td>35.744</td>\n",
       "      <td>2.194</td>\n",
       "      <td>4.145</td>\n",
       "      <td>4.885</td>\n",
       "      <td>118.074</td>\n",
       "    </tr>\n",
       "    <tr>\n",
       "      <th>min</th>\n",
       "      <td>2017-02-28 00:00:00</td>\n",
       "      <td>2.850</td>\n",
       "      <td>0.420</td>\n",
       "      <td>0.250</td>\n",
       "      <td>0.010</td>\n",
       "      <td>0.860</td>\n",
       "      <td>0.060</td>\n",
       "      <td>0.000</td>\n",
       "      <td>0.710</td>\n",
       "      <td>0.240</td>\n",
       "      <td>0.000</td>\n",
       "      <td>0.000</td>\n",
       "      <td>0.000</td>\n",
       "      <td>20.000</td>\n",
       "    </tr>\n",
       "    <tr>\n",
       "      <th>25%</th>\n",
       "      <td>2018-04-13 00:00:00</td>\n",
       "      <td>28.375</td>\n",
       "      <td>62.905</td>\n",
       "      <td>4.880</td>\n",
       "      <td>11.640</td>\n",
       "      <td>15.945</td>\n",
       "      <td>9.720</td>\n",
       "      <td>0.440</td>\n",
       "      <td>7.210</td>\n",
       "      <td>21.210</td>\n",
       "      <td>0.280</td>\n",
       "      <td>1.100</td>\n",
       "      <td>0.150</td>\n",
       "      <td>74.000</td>\n",
       "    </tr>\n",
       "    <tr>\n",
       "      <th>50%</th>\n",
       "      <td>2019-01-16 00:00:00</td>\n",
       "      <td>43.630</td>\n",
       "      <td>97.700</td>\n",
       "      <td>10.400</td>\n",
       "      <td>18.960</td>\n",
       "      <td>26.780</td>\n",
       "      <td>14.270</td>\n",
       "      <td>0.660</td>\n",
       "      <td>10.250</td>\n",
       "      <td>31.420</td>\n",
       "      <td>1.130</td>\n",
       "      <td>2.240</td>\n",
       "      <td>2.000</td>\n",
       "      <td>104.000</td>\n",
       "    </tr>\n",
       "    <tr>\n",
       "      <th>75%</th>\n",
       "      <td>2019-10-17 00:00:00</td>\n",
       "      <td>63.585</td>\n",
       "      <td>138.735</td>\n",
       "      <td>16.555</td>\n",
       "      <td>32.030</td>\n",
       "      <td>39.130</td>\n",
       "      <td>23.070</td>\n",
       "      <td>0.860</td>\n",
       "      <td>13.250</td>\n",
       "      <td>46.240</td>\n",
       "      <td>2.850</td>\n",
       "      <td>5.515</td>\n",
       "      <td>8.130</td>\n",
       "      <td>143.000</td>\n",
       "    </tr>\n",
       "    <tr>\n",
       "      <th>max</th>\n",
       "      <td>2020-07-01 00:00:00</td>\n",
       "      <td>868.660</td>\n",
       "      <td>917.080</td>\n",
       "      <td>103.440</td>\n",
       "      <td>237.270</td>\n",
       "      <td>150.960</td>\n",
       "      <td>129.460</td>\n",
       "      <td>3.830</td>\n",
       "      <td>67.260</td>\n",
       "      <td>172.280</td>\n",
       "      <td>53.890</td>\n",
       "      <td>76.320</td>\n",
       "      <td>137.450</td>\n",
       "      <td>869.000</td>\n",
       "    </tr>\n",
       "    <tr>\n",
       "      <th>std</th>\n",
       "      <td>NaN</td>\n",
       "      <td>35.894</td>\n",
       "      <td>62.526</td>\n",
       "      <td>12.981</td>\n",
       "      <td>17.878</td>\n",
       "      <td>22.030</td>\n",
       "      <td>12.889</td>\n",
       "      <td>0.440</td>\n",
       "      <td>5.941</td>\n",
       "      <td>20.465</td>\n",
       "      <td>3.328</td>\n",
       "      <td>5.079</td>\n",
       "      <td>8.077</td>\n",
       "      <td>65.766</td>\n",
       "    </tr>\n",
       "  </tbody>\n",
       "</table>\n",
       "</div>"
      ],
      "text/plain": [
       "                                Date     PM2.5      PM10        NO       NO2  \\\n",
       "count                           3061  2971.000  3031.000  3006.000  3049.000   \n",
       "mean   2019-01-04 22:02:23.482522112    50.159   107.412    13.281    24.375   \n",
       "min              2017-02-28 00:00:00     2.850     0.420     0.250     0.010   \n",
       "25%              2018-04-13 00:00:00    28.375    62.905     4.880    11.640   \n",
       "50%              2019-01-16 00:00:00    43.630    97.700    10.400    18.960   \n",
       "75%              2019-10-17 00:00:00    63.585   138.735    16.555    32.030   \n",
       "max              2020-07-01 00:00:00   868.660   917.080   103.440   237.270   \n",
       "std                              NaN    35.894    62.526    12.981    17.878   \n",
       "\n",
       "            NOx       NH3        CO       SO2        O3   Benzene   Toluene  \\\n",
       "count  2727.000  3045.000  2979.000  2921.000  2976.000  2872.000  2855.000   \n",
       "mean     30.779    17.991     0.665    11.003    35.744     2.194     4.145   \n",
       "min       0.860     0.060     0.000     0.710     0.240     0.000     0.000   \n",
       "25%      15.945     9.720     0.440     7.210    21.210     0.280     1.100   \n",
       "50%      26.780    14.270     0.660    10.250    31.420     1.130     2.240   \n",
       "75%      39.130    23.070     0.860    13.250    46.240     2.850     5.515   \n",
       "max     150.960   129.460     3.830    67.260   172.280    53.890    76.320   \n",
       "std      22.030    12.889     0.440     5.941    20.465     3.328     5.079   \n",
       "\n",
       "         Xylene       AQI  \n",
       "count  1617.000  3061.000  \n",
       "mean      4.885   118.074  \n",
       "min       0.000    20.000  \n",
       "25%       0.150    74.000  \n",
       "50%       2.000   104.000  \n",
       "75%       8.130   143.000  \n",
       "max     137.450   869.000  \n",
       "std       8.077    65.766  "
      ]
     },
     "execution_count": 6,
     "metadata": {},
     "output_type": "execute_result"
    }
   ],
   "source": [
    "# Data summaries \n",
    "np.round(data.describe(),3)"
   ]
  },
  {
   "attachments": {},
   "cell_type": "markdown",
   "metadata": {},
   "source": [
    "Missing Values"
   ]
  },
  {
   "attachments": {},
   "cell_type": "markdown",
   "metadata": {},
   "source": [
    "*EDA on how pollutants vary with AQI*"
   ]
  },
  {
   "cell_type": "code",
   "execution_count": 7,
   "metadata": {},
   "outputs": [
    {
     "data": {
      "text/plain": [
       "City          0\n",
       "Date          0\n",
       "PM2.5        90\n",
       "PM10         30\n",
       "NO           55\n",
       "NO2          12\n",
       "NOx         334\n",
       "NH3          16\n",
       "CO           82\n",
       "SO2         140\n",
       "O3           85\n",
       "Benzene     189\n",
       "Toluene     206\n",
       "Xylene     1444\n",
       "AQI           0\n",
       "dtype: int64"
      ]
     },
     "execution_count": 7,
     "metadata": {},
     "output_type": "execute_result"
    }
   ],
   "source": [
    "# Missing Values\n",
    "data.isnull().sum()"
   ]
  },
  {
   "attachments": {},
   "cell_type": "markdown",
   "metadata": {},
   "source": [
    "- Drop Benzene, Toluene, Xylene as these do not directly correlate with AQI and have significant numbers of missing values"
   ]
  },
  {
   "cell_type": "code",
   "execution_count": 8,
   "metadata": {},
   "outputs": [],
   "source": [
    "# Drop Benzene, Toluene, Xylene from data\n",
    "data.drop(['Benzene', 'Toluene', 'Xylene'], axis=1, inplace=True)"
   ]
  },
  {
   "attachments": {},
   "cell_type": "markdown",
   "metadata": {},
   "source": [
    "*Heatmaps to show distribution of missing data*"
   ]
  },
  {
   "attachments": {},
   "cell_type": "markdown",
   "metadata": {},
   "source": [
    "*Add missing Values using Iterative Imputer package*"
   ]
  },
  {
   "cell_type": "code",
   "execution_count": 9,
   "metadata": {},
   "outputs": [
    {
     "name": "stdout",
     "output_type": "stream",
     "text": [
      "PM2.5    0\n",
      "PM10     0\n",
      "NO       0\n",
      "NO2      0\n",
      "NOx      0\n",
      "NH3      0\n",
      "CO       0\n",
      "SO2      0\n",
      "O3       0\n",
      "AQI      0\n",
      "dtype: int64\n"
     ]
    },
    {
     "name": "stderr",
     "output_type": "stream",
     "text": [
      "/opt/anaconda3/lib/python3.11/site-packages/sklearn/impute/_iterative.py:785: ConvergenceWarning: [IterativeImputer] Early stopping criterion not reached.\n",
      "  warnings.warn(\n"
     ]
    }
   ],
   "source": [
    "# Drop the 'City' and 'Date' column, as it's not used for imputation\n",
    "data_model = data.drop(['City', 'Date'], axis=1)\n",
    "\n",
    "# Initialize the Iterative Imputer with a RandomForestRegressor\n",
    "imputer = IterativeImputer(estimator=RandomForestRegressor(), max_iter=10, random_state=42)\n",
    "\n",
    "# Apply the imputer to the dataset\n",
    "df_imputed = pd.DataFrame(imputer.fit_transform(data_model), columns=data_model.columns)\n",
    "\n",
    "# Display information about missing values after imputation\n",
    "print(df_imputed.isnull().sum())\n",
    "\n",
    "# Merge the imputed dataframe and the dataset\n",
    "data_new = pd.concat([data[['City', 'Date']], df_imputed], axis=1)\n"
   ]
  },
  {
   "attachments": {},
   "cell_type": "markdown",
   "metadata": {},
   "source": [
    "# Implementation of Weather Data"
   ]
  },
  {
   "cell_type": "code",
   "execution_count": 3,
   "metadata": {},
   "outputs": [],
   "source": [
    "# Import Datasets\n",
    "amarvati = pd.read_csv('amarvati.csv')\n",
    "amritsar = pd.read_csv('amritsar.csv')\n",
    "jaipur = pd.read_csv('jaipur.csv')"
   ]
  },
  {
   "attachments": {},
   "cell_type": "markdown",
   "metadata": {},
   "source": [
    "# Feature Selection"
   ]
  },
  {
   "attachments": {},
   "cell_type": "markdown",
   "metadata": {},
   "source": [
    "Applying Ridge & Lasso Regression to examine features"
   ]
  },
  {
   "attachments": {},
   "cell_type": "markdown",
   "metadata": {},
   "source": [
    "Ridge Regression:"
   ]
  },
  {
   "cell_type": "code",
   "execution_count": 10,
   "metadata": {},
   "outputs": [],
   "source": [
    "from sklearn.linear_model import Ridge\n",
    "from sklearn.metrics import mean_squared_error\n",
    "from sklearn.preprocessing import StandardScaler\n",
    "from sklearn.model_selection import train_test_split"
   ]
  },
  {
   "cell_type": "code",
   "execution_count": 11,
   "metadata": {},
   "outputs": [
    {
     "name": "stdout",
     "output_type": "stream",
     "text": [
      "Mean Squared Error: 716.0742366243823\n",
      "R-squared: 0.8100260132360817\n",
      "[19.0502885  42.14731666  3.0258029   5.14788455 -2.67241678 -0.54840459\n",
      "  3.75959311  6.01348177 -2.31182445]\n"
     ]
    }
   ],
   "source": [
    "# Select features and target\n",
    "X = data_new[['PM2.5', 'PM10', 'NO', 'NO2', 'NOx', 'SO2', 'CO', 'O3', 'NH3']]\n",
    "y = data_new['AQI']  \n",
    "\n",
    "# Split into training and testing sets (80% train, 20% test)\n",
    "X_train, X_test, y_train, y_test = train_test_split(X, y, test_size=0.2, random_state=42)\n",
    "\n",
    "# Standardise both sets of data\n",
    "scaler = StandardScaler()\n",
    "X_train_scaled = scaler.fit_transform(X_train)\n",
    "X_test_scaled = scaler.transform(X_test)\n",
    "\n",
    "# Initiate Ridge Regression\n",
    "ridge = Ridge(alpha=1.0) \n",
    "\n",
    "# Fit the model\n",
    "ridge.fit(X_train_scaled, y_train)\n",
    "\n",
    "# Predict on the test set\n",
    "y_pred = ridge.predict(X_test_scaled)\n",
    "\n",
    "# Calculate Mean Squared Error (MSE)\n",
    "mse = mean_squared_error(y_test, y_pred)\n",
    "print(f\"Mean Squared Error: {mse}\")\n",
    "\n",
    "# Calculate R-squared\n",
    "r_squared = ridge.score(X_test_scaled, y_test)\n",
    "print(f\"R-squared: {r_squared}\")\n",
    "\n",
    "# Print Coefficients\n",
    "print(ridge.coef_)"
   ]
  },
  {
   "attachments": {},
   "cell_type": "markdown",
   "metadata": {},
   "source": [
    "Alpha Tuning?"
   ]
  },
  {
   "attachments": {},
   "cell_type": "markdown",
   "metadata": {},
   "source": [
    "Lasso Regression:"
   ]
  },
  {
   "cell_type": "code",
   "execution_count": 12,
   "metadata": {},
   "outputs": [
    {
     "name": "stdout",
     "output_type": "stream",
     "text": [
      "Mean Squared Error: 717.8690919564582\n",
      "R-squared: 0.8095498393903275\n",
      "[18.93459724 42.12641294  1.85406786  4.09983118 -0.73308696 -0.20264855\n",
      "  3.47571587  5.89192956 -2.12355069]\n"
     ]
    }
   ],
   "source": [
    "from sklearn.linear_model import Lasso\n",
    "\n",
    "# Using majority of the same code as above:\n",
    "lasso = Lasso(alpha=0.1)\n",
    "\n",
    "# Fit the model\n",
    "lasso.fit(X_train_scaled, y_train)\n",
    "\n",
    "# Predict on the test set\n",
    "y_pred = lasso.predict(X_test_scaled)\n",
    "\n",
    "# Calculate Mean Squared Error (MSE)\n",
    "mse = mean_squared_error(y_test, y_pred)\n",
    "print(f\"Mean Squared Error: {mse}\")\n",
    "\n",
    "# Calculate R-squared\n",
    "r_squared = lasso.score(X_test_scaled, y_test)\n",
    "print(f\"R-squared: {r_squared}\")\n",
    "\n",
    "# Print Coefficients\n",
    "print(lasso.coef_)"
   ]
  },
  {
   "attachments": {},
   "cell_type": "markdown",
   "metadata": {},
   "source": [
    "Alpha Tuning?"
   ]
  },
  {
   "attachments": {},
   "cell_type": "markdown",
   "metadata": {},
   "source": [
    "From here we can look to remove x,y and z features"
   ]
  },
  {
   "attachments": {},
   "cell_type": "markdown",
   "metadata": {},
   "source": [
    "## Random Forest Regressor"
   ]
  },
  {
   "cell_type": "code",
   "execution_count": 13,
   "metadata": {},
   "outputs": [
    {
     "name": "stdout",
     "output_type": "stream",
     "text": [
      "Random Forest Regressor MSE: 526.1569637846655\n",
      "Random Forest Regressor R-squared: 0.860410930932286\n"
     ]
    }
   ],
   "source": [
    "from sklearn.ensemble import RandomForestRegressor\n",
    "from sklearn.model_selection import train_test_split\n",
    "from sklearn.metrics import mean_squared_error, r2_score\n",
    "\n",
    "X = data_new[['PM2.5', 'PM10', 'NO', 'NO2', 'NOx', 'SO2', 'CO', 'O3', 'NH3']]\n",
    "y = data_new['AQI']\n",
    "\n",
    "# Split the data\n",
    "X_train, X_test, y_train, y_test = train_test_split(X, y, test_size=0.2, random_state=42)\n",
    "\n",
    "# Initialize and fit the Random Forest model\n",
    "rf = RandomForestRegressor(n_estimators=100, random_state=42)\n",
    "rf.fit(X_train, y_train)\n",
    "\n",
    "# Predict and evaluate\n",
    "y_pred_rf = rf.predict(X_test)\n",
    "mse_rf = mean_squared_error(y_test, y_pred_rf)\n",
    "r2_rf = r2_score(y_test, y_pred_rf)\n",
    "\n",
    "print(f\"Random Forest Regressor MSE: {mse_rf}\")\n",
    "print(f\"Random Forest Regressor R-squared: {r2_rf}\")\n"
   ]
  },
  {
   "attachments": {},
   "cell_type": "markdown",
   "metadata": {},
   "source": [
    "Parameter Tuning"
   ]
  },
  {
   "cell_type": "code",
   "execution_count": null,
   "metadata": {},
   "outputs": [],
   "source": []
  },
  {
   "attachments": {},
   "cell_type": "markdown",
   "metadata": {},
   "source": [
    "## Support Vector Regression"
   ]
  },
  {
   "cell_type": "code",
   "execution_count": 14,
   "metadata": {},
   "outputs": [
    {
     "name": "stdout",
     "output_type": "stream",
     "text": [
      "Support Vector Regressor MSE: 1457.7902225078733\n",
      "Support Vector Regressor R-squared: 0.6132492885921959\n"
     ]
    }
   ],
   "source": [
    "from sklearn.svm import SVR\n",
    "from sklearn.preprocessing import StandardScaler\n",
    "\n",
    "# Standardize the data (SVR requires standardized input)\n",
    "scaler = StandardScaler()\n",
    "X_train_scaled = scaler.fit_transform(X_train)\n",
    "X_test_scaled = scaler.transform(X_test)\n",
    "\n",
    "# Initialize and fit the Support Vector Regression model\n",
    "svr = SVR(kernel='rbf')  # Using RBF kernel for non-linear relationships\n",
    "svr.fit(X_train_scaled, y_train)\n",
    "\n",
    "# Predict and evaluate\n",
    "y_pred_svr = svr.predict(X_test_scaled)\n",
    "mse_svr = mean_squared_error(y_test, y_pred_svr)\n",
    "r2_svr = r2_score(y_test, y_pred_svr)\n",
    "\n",
    "print(f\"Support Vector Regressor MSE: {mse_svr}\")\n",
    "print(f\"Support Vector Regressor R-squared: {r2_svr}\")\n"
   ]
  },
  {
   "attachments": {},
   "cell_type": "markdown",
   "metadata": {},
   "source": [
    "Parameter Tuning"
   ]
  },
  {
   "attachments": {},
   "cell_type": "markdown",
   "metadata": {},
   "source": [
    "## Stacked Neural Network + XGBoost"
   ]
  },
  {
   "cell_type": "code",
   "execution_count": 15,
   "metadata": {},
   "outputs": [
    {
     "name": "stdout",
     "output_type": "stream",
     "text": [
      "Tuned Hybrid Model (XGBoost + Neural Network) MSE: 551.6878228698837\n",
      "Tuned Hybrid Model (XGBoost + Neural Network) R-squared: 0.8536376121367504\n"
     ]
    }
   ],
   "source": [
    "import xgboost as xgb\n",
    "from sklearn.neural_network import MLPRegressor\n",
    "from sklearn.linear_model import LinearRegression\n",
    "from sklearn.model_selection import train_test_split\n",
    "from sklearn.metrics import mean_squared_error\n",
    "from sklearn.ensemble import StackingRegressor\n",
    "\n",
    "# Load your dataset\n",
    "X = data_new[['PM2.5', 'PM10', 'NO', 'NO2', 'NOx', 'SO2', 'CO', 'O3', 'NH3']]\n",
    "y = data_new['AQI']\n",
    "\n",
    "# Split data into train and test sets\n",
    "X_train, X_test, y_train, y_test = train_test_split(X, y, test_size=0.2, random_state=42)\n",
    "\n",
    "# Initialize XGBoost and Neural Network as base learners\n",
    "xgb_model = xgb.XGBRegressor(n_estimators=100, learning_rate=0.1, max_depth=5, random_state=42)\n",
    "nn_model = MLPRegressor(hidden_layer_sizes=(100,), activation='relu', solver='adam', max_iter=1000, random_state=42)\n",
    "\n",
    "# Create the stacking model using Linear Regression as the meta-model\n",
    "stacked_model = StackingRegressor(\n",
    "    estimators=[('xgb', xgb_model), ('nn', nn_model)],\n",
    "    final_estimator=LinearRegression()\n",
    ")\n",
    "\n",
    "# Fit the stacked model\n",
    "stacked_model.fit(X_train, y_train)\n",
    "\n",
    "# Make predictions and evaluate the model\n",
    "y_pred_stacked = stacked_model.predict(X_test)\n",
    "mse_stacked = mean_squared_error(y_test, y_pred_stacked)\n",
    "r2_stacked = r2_score(y_test, y_pred_stacked)\n",
    "\n",
    "print(f\"Tuned Hybrid Model (XGBoost + Neural Network) MSE: {mse_stacked}\")\n",
    "print(f\"Tuned Hybrid Model (XGBoost + Neural Network) R-squared: {r2_stacked}\")\n"
   ]
  },
  {
   "attachments": {},
   "cell_type": "markdown",
   "metadata": {},
   "source": [
    "Parameter Tuning"
   ]
  },
  {
   "attachments": {},
   "cell_type": "markdown",
   "metadata": {},
   "source": []
  }
 ],
 "metadata": {
  "kernelspec": {
   "display_name": "base",
   "language": "python",
   "name": "python3"
  },
  "language_info": {
   "codemirror_mode": {
    "name": "ipython",
    "version": 3
   },
   "file_extension": ".py",
   "mimetype": "text/x-python",
   "name": "python",
   "nbconvert_exporter": "python",
   "pygments_lexer": "ipython3",
   "version": "3.11.7"
  }
 },
 "nbformat": 4,
 "nbformat_minor": 2
}
