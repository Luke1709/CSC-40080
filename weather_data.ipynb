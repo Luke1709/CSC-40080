{
 "cells": [
  {
   "cell_type": "code",
   "execution_count": 21,
   "metadata": {},
   "outputs": [],
   "source": [
    "import pandas as pd"
   ]
  },
  {
   "cell_type": "code",
   "execution_count": 22,
   "metadata": {},
   "outputs": [],
   "source": [
    "# Import Raw Datasets\n",
    "amarvati_raw = pd.read_csv('Amaravati_raw.csv')\n",
    "amritsar_raw = pd.read_csv('Amritsar_raw.csv')\n",
    "jaipur_raw = pd.read_csv('Jaipur_raw.csv')"
   ]
  },
  {
   "cell_type": "code",
   "execution_count": 23,
   "metadata": {},
   "outputs": [
    {
     "data": {
      "text/plain": [
       "Index(['Unnamed: 0', 'date', 'temperature_2m', 'relative_humidity_2m',\n",
       "       'dew_point_2m', 'apparent_temperature', 'precipitation', 'rain',\n",
       "       'snowfall', 'snow_depth', 'pressure_msl', 'surface_pressure',\n",
       "       'cloud_cover', 'cloud_cover_low', 'cloud_cover_mid', 'cloud_cover_high',\n",
       "       'wind_speed_10m', 'wind_speed_100m', 'wind_direction_10m',\n",
       "       'wind_direction_100m', 'wind_gusts_10m'],\n",
       "      dtype='object')"
      ]
     },
     "execution_count": 23,
     "metadata": {},
     "output_type": "execute_result"
    }
   ],
   "source": [
    "amritsar_raw.columns"
   ]
  },
  {
   "cell_type": "code",
   "execution_count": 24,
   "metadata": {},
   "outputs": [],
   "source": [
    "# Drop unneccesary columns\n",
    "columns_to_drop = ['Unnamed: 0', 'apparent_temperature', 'snowfall', 'snow_depth', 'pressure_msl', 'surface_pressure', 'cloud_cover_low', 'cloud_cover_mid', 'cloud_cover_high', 'wind_direction_10m', 'wind_direction_100m', 'wind_gusts_10m']\n",
    "amarvati_raw.drop(columns_to_drop, axis=1, inplace=True)\n",
    "amritsar_raw.drop(columns_to_drop, axis=1, inplace=True)\n",
    "jaipur_raw.drop(columns_to_drop, axis=1, inplace=True)"
   ]
  },
  {
   "cell_type": "code",
   "execution_count": 25,
   "metadata": {},
   "outputs": [
    {
     "data": {
      "text/html": [
       "<div>\n",
       "<style scoped>\n",
       "    .dataframe tbody tr th:only-of-type {\n",
       "        vertical-align: middle;\n",
       "    }\n",
       "\n",
       "    .dataframe tbody tr th {\n",
       "        vertical-align: top;\n",
       "    }\n",
       "\n",
       "    .dataframe thead th {\n",
       "        text-align: right;\n",
       "    }\n",
       "</style>\n",
       "<table border=\"1\" class=\"dataframe\">\n",
       "  <thead>\n",
       "    <tr style=\"text-align: right;\">\n",
       "      <th></th>\n",
       "      <th>date</th>\n",
       "      <th>temperature_2m</th>\n",
       "      <th>relative_humidity_2m</th>\n",
       "      <th>dew_point_2m</th>\n",
       "      <th>precipitation</th>\n",
       "      <th>rain</th>\n",
       "      <th>cloud_cover</th>\n",
       "      <th>wind_speed_10m</th>\n",
       "      <th>wind_speed_100m</th>\n",
       "    </tr>\n",
       "  </thead>\n",
       "  <tbody>\n",
       "    <tr>\n",
       "      <th>0</th>\n",
       "      <td>2010-01-01 00:00:00+00:00</td>\n",
       "      <td>21.032500</td>\n",
       "      <td>94.60370</td>\n",
       "      <td>20.132500</td>\n",
       "      <td>0.0</td>\n",
       "      <td>0.0</td>\n",
       "      <td>24.9</td>\n",
       "      <td>5.804825</td>\n",
       "      <td>6.638072</td>\n",
       "    </tr>\n",
       "    <tr>\n",
       "      <th>1</th>\n",
       "      <td>2010-01-01 01:00:00+00:00</td>\n",
       "      <td>20.682499</td>\n",
       "      <td>95.47321</td>\n",
       "      <td>19.932499</td>\n",
       "      <td>0.0</td>\n",
       "      <td>0.0</td>\n",
       "      <td>6.3</td>\n",
       "      <td>5.904439</td>\n",
       "      <td>6.130579</td>\n",
       "    </tr>\n",
       "  </tbody>\n",
       "</table>\n",
       "</div>"
      ],
      "text/plain": [
       "                        date  temperature_2m  relative_humidity_2m  \\\n",
       "0  2010-01-01 00:00:00+00:00       21.032500              94.60370   \n",
       "1  2010-01-01 01:00:00+00:00       20.682499              95.47321   \n",
       "\n",
       "   dew_point_2m  precipitation  rain  cloud_cover  wind_speed_10m  \\\n",
       "0     20.132500            0.0   0.0         24.9        5.804825   \n",
       "1     19.932499            0.0   0.0          6.3        5.904439   \n",
       "\n",
       "   wind_speed_100m  \n",
       "0         6.638072  \n",
       "1         6.130579  "
      ]
     },
     "execution_count": 25,
     "metadata": {},
     "output_type": "execute_result"
    }
   ],
   "source": [
    "amarvati_raw.head(2)"
   ]
  },
  {
   "cell_type": "code",
   "execution_count": 26,
   "metadata": {},
   "outputs": [
    {
     "name": "stdout",
     "output_type": "stream",
     "text": [
      "<class 'str'>\n",
      "<class 'pandas._libs.tslibs.timestamps.Timestamp'>\n"
     ]
    }
   ],
   "source": [
    "# Check time column data type\n",
    "print(type(amarvati_raw['date'][0]))\n",
    "\n",
    "# Convert to date type\n",
    "amarvati_raw['date'] = pd.to_datetime(amarvati_raw['date'])\n",
    "amritsar_raw['date'] = pd.to_datetime(amarvati_raw['date'])\n",
    "jaipur_raw['date'] = pd.to_datetime(amarvati_raw['date'])\n",
    "\n",
    "print(type(amarvati_raw['date'][0]))"
   ]
  },
  {
   "cell_type": "code",
   "execution_count": 27,
   "metadata": {},
   "outputs": [],
   "source": [
    "# Rename columns so easier to read\n",
    "amarvati_raw.rename(columns={'temperature_2m': 'temperature', 'relative_humidity_2m': 'humidity', 'dew_point_2m': 'dew_point'}, inplace=True)\n",
    "amritsar_raw.rename(columns={'temperature_2m': 'temperature', 'relative_humidity_2m': 'humidity', 'dew_point_2m': 'dew_point'}, inplace=True)\n",
    "jaipur_raw.rename(columns={'temperature_2m': 'temperature', 'relative_humidity_2m': 'humidity', 'dew_point_2m': 'dew_point'}, inplace=True)"
   ]
  },
  {
   "attachments": {},
   "cell_type": "markdown",
   "metadata": {},
   "source": [
    "Data available is per hour which does not match the data on the pollutants. \n",
    "\n",
    "Feature Engineering is needed to sum, average or find the min/max of each type of weather\n",
    "\n",
    "Type:\n",
    "- Temperature : Average + Max\n",
    "- Humidity: Average + Max\n",
    "- Dew Point: Average + Max\n",
    "- Precipitation: Sum\n",
    "- Rain: Sum\n",
    "- Cloud Cover: Sum\n",
    "- Wind Speed 10m: Average + Max\n",
    "- Wind Speed 100m: Average + Max"
   ]
  },
  {
   "cell_type": "code",
   "execution_count": 28,
   "metadata": {},
   "outputs": [],
   "source": [
    "# Set date as the index\n",
    "amarvati_raw.set_index('date', inplace=True)\n",
    "amritsar_raw.set_index('date', inplace=True)\n",
    "jaipur_raw.set_index('date', inplace=True)"
   ]
  },
  {
   "cell_type": "code",
   "execution_count": 29,
   "metadata": {},
   "outputs": [],
   "source": [
    "# Define the aggregation functions for each column\n",
    "amarvati = amarvati_raw.resample('D').agg({\n",
    "    'temperature': ['mean', 'max'],      \n",
    "    'humidity': ['mean', 'max'],          \n",
    "    'dew_point': ['mean', 'max'],         \n",
    "    'precipitation': 'sum',              \n",
    "    'rain': 'sum',                     \n",
    "    'cloud_cover': 'sum',                \n",
    "    'wind_speed_10m': ['mean', 'max'],     \n",
    "    'wind_speed_100m': ['mean', 'max'] \n",
    "})\n",
    "\n",
    "amritsar = amritsar_raw.resample('D').agg({\n",
    "    'temperature': ['mean', 'max'],        \n",
    "    'humidity': ['mean', 'max'],           \n",
    "    'dew_point': ['mean', 'max'],          \n",
    "    'precipitation': 'sum',               \n",
    "    'rain': 'sum',                         \n",
    "    'cloud_cover': 'sum',                   \n",
    "    'wind_speed_10m': ['mean', 'max'],     \n",
    "    'wind_speed_100m': ['mean', 'max']      \n",
    "})\n",
    "\n",
    "jaipur = jaipur_raw.resample('D').agg({\n",
    "    'temperature': ['mean', 'max'],        \n",
    "    'humidity': ['mean', 'max'],            \n",
    "    'dew_point': ['mean', 'max'],          \n",
    "    'precipitation': 'sum',                 \n",
    "    'rain': 'sum',                          \n",
    "    'cloud_cover': 'sum',                  \n",
    "    'wind_speed_10m': ['mean', 'max'],      \n",
    "    'wind_speed_100m': ['mean', 'max']     \n",
    "})\n",
    "\n",
    "# Display the aggregated daily values\n",
    "amarvati.columns = ['_'.join(col).strip() for col in amarvati.columns.values]\n",
    "amritsar.columns = ['_'.join(col).strip() for col in amritsar.columns.values]\n",
    "jaipur.columns = ['_'.join(col).strip() for col in jaipur.columns.values]\n"
   ]
  },
  {
   "cell_type": "code",
   "execution_count": 30,
   "metadata": {},
   "outputs": [],
   "source": [
    "# Export dataframes as csv for use in main\n",
    "amarvati.to_csv('amarvati.csv', index=True)\n",
    "amritsar.to_csv('amritsar.csv', index=True)\n",
    "jaipur.to_csv('jaipur.csv', index=True)"
   ]
  }
 ],
 "metadata": {
  "kernelspec": {
   "display_name": "base",
   "language": "python",
   "name": "python3"
  },
  "language_info": {
   "codemirror_mode": {
    "name": "ipython",
    "version": 3
   },
   "file_extension": ".py",
   "mimetype": "text/x-python",
   "name": "python",
   "nbconvert_exporter": "python",
   "pygments_lexer": "ipython3",
   "version": "3.11.7"
  },
  "orig_nbformat": 4
 },
 "nbformat": 4,
 "nbformat_minor": 2
}
